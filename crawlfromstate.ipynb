{
 "cells": [
  {
   "cell_type": "code",
   "execution_count": 1,
   "id": "755661c7-08d7-428c-b24c-bcb8f829b371",
   "metadata": {},
   "outputs": [
    {
     "name": "stdout",
     "output_type": "stream",
     "text": [
      "Area URLs: ['https://www.nigeriapostcode.com/location/abia/aba/', 'https://www.nigeriapostcode.com/location/abia/aba-south/', 'https://www.nigeriapostcode.com/location/abia/abia-north/', 'https://www.nigeriapostcode.com/location/abia/abia-south/', 'https://www.nigeriapostcode.com/location/abia/arochukwu/', 'https://www.nigeriapostcode.com/location/abia/bende/', 'https://www.nigeriapostcode.com/location/abia/ikwuano/', 'https://www.nigeriapostcode.com/location/abia/isiala-ngwa-north/', 'https://www.nigeriapostcode.com/location/abia/isiala-ngwa-south/', 'https://www.nigeriapostcode.com/location/abia/isukwuato/', 'https://www.nigeriapostcode.com/location/abia/obioma-ngwa/', 'https://www.nigeriapostcode.com/location/abia/ohafia/', 'https://www.nigeriapostcode.com/location/abia/osisioma/', 'https://www.nigeriapostcode.com/location/abia/ugwunagbo/', 'https://www.nigeriapostcode.com/location/abia/ukwa-east/', 'https://www.nigeriapostcode.com/location/abia/ukwa-west/', 'https://www.nigeriapostcode.com/location/abia/umuahia/', 'https://www.nigeriapostcode.com/location/abia/umuahia-north/', 'https://www.nigeriapostcode.com/location/abia/umuahia-south/', 'https://www.nigeriapostcode.com/location/abia/umunneochi/']\n"
     ]
    }
   ],
   "source": [
    "import requests\n",
    "from bs4 import BeautifulSoup\n",
    "import csv\n",
    "\n",
    "main_url = \"https://www.nigeriapostcode.com/location/abia/\"\n",
    "\n",
    "headers = {\n",
    "    \"User-Agent\": \"Mozilla/5.0 (Windows NT 10.0; Win64; x64) AppleWebKit/537.36 (KHTML, like Gecko) Chrome/91.0.4472.124 Safari/537.36\"\n",
    "}\n",
    "\n",
    "response = requests.get(main_url, headers=headers)\n",
    "soup = BeautifulSoup(response.content, \"html.parser\")\n",
    "\n",
    "base_domain = \"https://www.nigeriapostcode.com\"\n",
    "area_urls = []\n",
    "for link in soup.find_all(\"a\", class_=\"pull-left\"):\n",
    "    relative_url = link.get('href')\n",
    "    if relative_url:\n",
    "        full_url = base_domain + relative_url\n",
    "        area_urls.append(full_url)\n",
    "\n",
    "print(\"Area URLs:\", area_urls)"
   ]
  },
  {
   "cell_type": "code",
   "execution_count": 2,
   "id": "e5be1885-7777-409f-a0bc-071e434182a3",
   "metadata": {},
   "outputs": [
    {
     "name": "stdout",
     "output_type": "stream",
     "text": [
      "Data collection and saving to CSV complete.\n"
     ]
    }
   ],
   "source": [
    "headers = {\n",
    "    \"User-Agent\": \"Mozilla/5.0 (Windows NT 10.0; Win64; x64) AppleWebKit/537.36 (KHTML, like Gecko) Chrome/91.0.4472.124 Safari/537.36\",\n",
    "    \"Accept\": \"text/html,application/xhtml+xml,application/xml;q=0.9,image/webp,*/*;q=0.8\",\n",
    "    \"Accept-Language\": \"en-US,en;q=0.9\",\n",
    "    \"Referer\": \"https://www.google.com/\",\n",
    "    \"Connection\": \"keep-alive\",\n",
    "    \"Upgrade-Insecure-Requests\": \"1\"\n",
    "}\n",
    "postal_data = []\n",
    "\n",
    "def scrape_area(area_url):\n",
    "    page_number = 1\n",
    "    while True:\n",
    "        url = f\"{area_url}?page={page_number}\"\n",
    "        response = requests.get(url, headers=headers)\n",
    "        soup = BeautifulSoup(response.content, \"html.parser\")\n",
    "\n",
    "        table_rows = soup.select(\"table tr\")\n",
    "        if not table_rows or page_number > 50: \n",
    "            break\n",
    "\n",
    "        for row in table_rows[1:]:\n",
    "            cols = row.find_all(\"td\")\n",
    "            if len(cols) == 6:\n",
    "                # Extract and clean the data\n",
    "                data = {\n",
    "                    \"location\": cols[0].text.strip(),\n",
    "                    \"type\": cols[1].text.strip(),\n",
    "                    \"area_district\": cols[2].text.strip(),\n",
    "                    \"city_lga\": cols[3].text.strip(),\n",
    "                    \"state\": cols[4].text.strip(),\n",
    "                    \"postcode\": cols[5].text.strip()\n",
    "                }\n",
    "                postal_data.append(data)\n",
    "        \n",
    "        page_number += 1\n",
    "\n",
    "for area_url in area_urls:\n",
    "    scrape_area(area_url)\n",
    "\n",
    "csv_file = \"nigeria_postal_codes_all_abia_areas.csv\"\n",
    "with open(csv_file, mode='w', newline='', encoding='utf-8') as file:\n",
    "    writer = csv.DictWriter(file, fieldnames=[\"location\", \"type\", \"area_district\", \"city_lga\", \"state\", \"postcode\"])\n",
    "    writer.writeheader()\n",
    "    for data in postal_data:\n",
    "        writer.writerow(data)\n",
    "\n",
    "print(\"Data collection and saving to CSV complete.\")"
   ]
  },
  {
   "cell_type": "code",
   "execution_count": null,
   "id": "12a6c646-5937-43c7-b16e-96590a5a4ff4",
   "metadata": {},
   "outputs": [],
   "source": []
  }
 ],
 "metadata": {
  "kernelspec": {
   "display_name": "Python 3 (ipykernel)",
   "language": "python",
   "name": "python3"
  },
  "language_info": {
   "codemirror_mode": {
    "name": "ipython",
    "version": 3
   },
   "file_extension": ".py",
   "mimetype": "text/x-python",
   "name": "python",
   "nbconvert_exporter": "python",
   "pygments_lexer": "ipython3",
   "version": "3.10.11"
  }
 },
 "nbformat": 4,
 "nbformat_minor": 5
}
